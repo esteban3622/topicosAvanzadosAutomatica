{
  "nbformat": 4,
  "nbformat_minor": 0,
  "metadata": {
    "colab": {
      "provenance": [],
      "authorship_tag": "ABX9TyOAA5OwIqlLDy+xQfh8XCx0",
      "include_colab_link": true
    },
    "kernelspec": {
      "name": "python3",
      "display_name": "Python 3"
    },
    "language_info": {
      "name": "python"
    }
  },
  "cells": [
    {
      "cell_type": "markdown",
      "metadata": {
        "id": "view-in-github",
        "colab_type": "text"
      },
      "source": [
        "<a href=\"https://colab.research.google.com/github/esteban3622/topicosAvanzadosAutomatica/blob/main/Proyecto_Heart_Failure_Prediction_Dataset.ipynb\" target=\"_parent\"><img src=\"https://colab.research.google.com/assets/colab-badge.svg\" alt=\"Open In Colab\"/></a>"
      ]
    },
    {
      "cell_type": "markdown",
      "source": [
        "# Proyecto Final - Heart Failure Prediction\n",
        "Con el objetivo de llevar a cabo el uso diferentes tipos de algoritmos para clasificación-predicción, se emplea la base de datos \"Heart Failure Prediction\", la cual se encuentra disponible en el repositorio de la página de Kaggle por medio del siguiente enlace ([Heart Failure Prediction Dataset](https://www.kaggle.com/datasets/fedesoriano/heart-failure-prediction)). Además, con la intensión de contextualizar la información de la base de datos, se extrae de la misma pagina el significado de las diferentes etiquetas e importancia que propone el autor al compartir el dataset.\n",
        "\n",
        "## Contexto \n",
        "\n",
        "Las enfermedades cardiovasculares (ECV) son la principal causa de muerte en todo el mundo y se cobran aproximadamente 17,9 millones de vidas cada año, lo que representa el 31 % de todas las muertes en todo el mundo. Cuatro de cada 5 muertes por ECV se deben a ataques cardíacos y accidentes cerebrovasculares, y un tercio de estas muertes ocurren prematuramente en personas menores de 70 años. La insuficiencia cardíaca es un evento común causado por ECV y este conjunto de datos contiene 11 características que pueden usarse para predecir una posible enfermedad cardíaca.\n",
        "\n",
        "Las personas con enfermedades cardiovasculares o que tienen un alto riesgo cardiovascular (por la presencia de uno o más factores de riesgo como hipertensión, diabetes, hiperlipidemia o enfermedad ya establecida) necesitan una detección y manejo temprano en el que un modelo de aprendizaje automático puede ser de gran ayuda.\n",
        "\n",
        "## Información de los Atributos\n",
        "Con la intensión de mantener las etiquetas originales del dataset, se emplean los nombres en ingles. Sin embargo, se adiciona su traducción y explicación en español.\n",
        "- **Age**, Edad: Edad del pacientes [años]\n",
        "- **Sex**, Sexo: Sexo del paciente [M: Masculino, F: Femenino]\n",
        "- **ChestPainType**, Tipo de dolor en el pecho: [TA: Angina Típica, ATA: Angina Atípica, NAP: Dolor no Anginoso, ASY: Asintomático]\n",
        "- **RestingBP**: Presión Arterial en Reposo [mm Hg]\n",
        "- **Cholesterol**: Colesterol Sérico [mm/dl]\n",
        "- **FastingBS**: Glucemia en ayunas [1: if FastingBS > 120 mg/dl, 0: otherwise]\n",
        "- **RestingECG**: resultados del electrocardiograma en reposo [Normal: Normal, ST: having ST-T wave abnormality (T wave inversions and/or ST elevation or depression of > 0.05 mV), LVH: showing probable or definite left ventricular hypertrophy by Estes' criteria]\n",
        "- **MaxHR**: frecuencia cardíaca máxima alcanzada [Numeric value between 60 and 202]\n",
        "- **ExerciseAngina**: angina inducida por el ejercicio [Y: Yes, N: No]\n",
        "- **Oldpeak**: Viejo pico = ST [Valor numérico medido en depresión]\n",
        "- **ST_Slope**: Pendiente del segmento ST de ejercicio máximo [Up: upsloping, Flat: flat, Down: downsloping]\n",
        "- **HeartDisease**, Enfermedad del corazón: Clase de Salida [1: heart disease, 0: Normal]\n",
        "\n"
      ],
      "metadata": {
        "id": "gt0lGeVEngJX"
      }
    },
    {
      "cell_type": "markdown",
      "source": [
        "## Métricas \n",
        "De acuerdo a la implementación de diferentes modelos computacionales, es necesarios emplear algunas métricas que permitan establecer una comparativa de cual o cuales algoritmos presenta un mejor resultado frente al objetivo planteado. Se presenta por medio de la siguiente lista, las métricas empleadas.\n",
        "- Matriz de Confusión, referencia: [sklearn.metrics.confusion_matrix](https://scikit-learn.org/stable/modules/generated/sklearn.metrics.confusion_matrix.html)\n",
        "- Exactitud del modelo, referencia: [sklearn.metrics.accuracy_score](https://scikit-learn.org/stable/modules/generated/sklearn.metrics.accuracy_score.html)\n",
        "- Precisión del modelo, referencia: [sklearn.metrics.precision_score](https://scikit-learn.org/stable/modules/generated/sklearn.metrics.precision_score.html)\n",
        "- Sensibilidad del modelo, referencia: [sklearn.metrics.recall_score](https://scikit-learn.org/stable/modules/generated/sklearn.metrics.recall_score.html)\n",
        "- Error Cuadrático Medio, referencia: [sklearn.metrics.mean_squared_error](https://scikit-learn.org/stable/modules/generated/sklearn.metrics.mean_squared_error.html)\n"
      ],
      "metadata": {
        "id": "o5BbV_A8NFUE"
      }
    },
    {
      "cell_type": "markdown",
      "source": [
        "# Funciones creadas\n",
        "Para generar un código con mayor orden y menor repetición en las instrucciones empleadas se crean algunas funciones que permiten llevar a cabo tareas repetitivas de manera compacta, entre estas funciones se hayan las funciones de Metricas, CompaModelos. \n",
        "\n",
        "En particular, la función *Metricas*, genera el cálculo de los diferentes metodos de evaluación del algoritmo empleado. En el caso de la función *CompaModelos*, realiza la comparación obtenidos de la función anterior y los presenta en un formato de tabla."
      ],
      "metadata": {
        "id": "C5LACSJbM57j"
      }
    },
    {
      "cell_type": "code",
      "source": [
        "from sklearn.metrics import confusion_matrix\n",
        "from sklearn.metrics import precision_score\n",
        "from sklearn.metrics import accuracy_score\n",
        "from sklearn.metrics import recall_score\n",
        "from sklearn.metrics import mean_squared_error\n",
        "\n",
        "def Metricas(yTest, yPred):\n",
        "  matriz = confusion_matrix(yTest, yPred)\n",
        "  print('Matriz de confusión:')\n",
        "  print(matriz)\n",
        "\n",
        "  precision = precision_score(yTest, yPred)\n",
        "  print('Precisión del modelo:', precision)\n",
        "\n",
        "  exactitud = accuracy_score(yTest, yPred)\n",
        "  print('Exactitud del modelo:', exactitud)\n",
        "\n",
        "  sensibilidad = recall_score(yTest, yPred)\n",
        "  print('Sensibilidad del modelo:', sensibilidad)\n",
        "\n",
        "  loss = mean_squared_error(yTest, yPred)\n",
        "  print('Error del modelo:', loss)"
      ],
      "metadata": {
        "id": "fgfbX0rwCu3M"
      },
      "execution_count": 25,
      "outputs": []
    },
    {
      "cell_type": "code",
      "source": [
        "import pandas as pd\n",
        "\n",
        "df_Comp = pd.DataFrame(columns=['confusion_matrix', 'precision_score', 'accuracy_score', 'recall_score', 'mean_squared_error'])\n",
        "\n",
        "def CompaModelos(yTest, yPred):\n",
        "  matriz = confusion_matrix(yTest, yPred)\n",
        "  precision = precision_score(yTest, yPred)\n",
        "  exactitud = accuracy_score(yTest, yPred)\n",
        "  sensibilidad = recall_score(yTest, yPred)\n",
        "  loss = mean_squared_error(yTest, yPred)\n",
        "  \n",
        "  df_Temp = [matriz, precision, exactitud, sensibilidad, loss]\n",
        "  return df_Temp"
      ],
      "metadata": {
        "id": "EAugCTTTxkwS"
      },
      "execution_count": 26,
      "outputs": []
    },
    {
      "cell_type": "markdown",
      "source": [
        "## Proceos de importar la base de datos\n",
        "Para generar una facil implementación de la base de datos durante el ejercicio y no depender de su existencia en el servidor de Kaggle, se ha dispuesto del archivo \"*heart.csv*\" en el repositorio personal de GitHub y posteriormente se genero el llamado al algoritmo que se presenta. Ademas, se realizar una visualizacion previa de los datos donde se verifica los diferentes parametros y caracteristicas de la base de datos. "
      ],
      "metadata": {
        "id": "8Y1lzFE_ocf3"
      }
    },
    {
      "cell_type": "code",
      "source": [
        "# Proceso de carga de la DB y visualizacion preliminar de la misma.\n",
        "import pandas as pd\n",
        "\n",
        "url = 'https://raw.githubusercontent.com/esteban3622/topicosAvanzadosAutomatica/main/heart.csv'\n",
        "df = pd.read_csv(url)\n",
        "df"
      ],
      "metadata": {
        "colab": {
          "base_uri": "https://localhost:8080/",
          "height": 424
        },
        "id": "cvEfwSNLop_h",
        "outputId": "fe1c5117-6b36-40ce-9060-62b03e341e88"
      },
      "execution_count": 27,
      "outputs": [
        {
          "output_type": "execute_result",
          "data": {
            "text/plain": [
              "     Age Sex ChestPainType  RestingBP  Cholesterol  FastingBS RestingECG  \\\n",
              "0     40   M           ATA        140          289          0     Normal   \n",
              "1     49   F           NAP        160          180          0     Normal   \n",
              "2     37   M           ATA        130          283          0         ST   \n",
              "3     48   F           ASY        138          214          0     Normal   \n",
              "4     54   M           NAP        150          195          0     Normal   \n",
              "..   ...  ..           ...        ...          ...        ...        ...   \n",
              "913   45   M            TA        110          264          0     Normal   \n",
              "914   68   M           ASY        144          193          1     Normal   \n",
              "915   57   M           ASY        130          131          0     Normal   \n",
              "916   57   F           ATA        130          236          0        LVH   \n",
              "917   38   M           NAP        138          175          0     Normal   \n",
              "\n",
              "     MaxHR ExerciseAngina  Oldpeak ST_Slope  HeartDisease  \n",
              "0      172              N      0.0       Up             0  \n",
              "1      156              N      1.0     Flat             1  \n",
              "2       98              N      0.0       Up             0  \n",
              "3      108              Y      1.5     Flat             1  \n",
              "4      122              N      0.0       Up             0  \n",
              "..     ...            ...      ...      ...           ...  \n",
              "913    132              N      1.2     Flat             1  \n",
              "914    141              N      3.4     Flat             1  \n",
              "915    115              Y      1.2     Flat             1  \n",
              "916    174              N      0.0     Flat             1  \n",
              "917    173              N      0.0       Up             0  \n",
              "\n",
              "[918 rows x 12 columns]"
            ],
            "text/html": [
              "\n",
              "  <div id=\"df-7302f835-9ed0-48a2-bc3a-0b45028a592f\">\n",
              "    <div class=\"colab-df-container\">\n",
              "      <div>\n",
              "<style scoped>\n",
              "    .dataframe tbody tr th:only-of-type {\n",
              "        vertical-align: middle;\n",
              "    }\n",
              "\n",
              "    .dataframe tbody tr th {\n",
              "        vertical-align: top;\n",
              "    }\n",
              "\n",
              "    .dataframe thead th {\n",
              "        text-align: right;\n",
              "    }\n",
              "</style>\n",
              "<table border=\"1\" class=\"dataframe\">\n",
              "  <thead>\n",
              "    <tr style=\"text-align: right;\">\n",
              "      <th></th>\n",
              "      <th>Age</th>\n",
              "      <th>Sex</th>\n",
              "      <th>ChestPainType</th>\n",
              "      <th>RestingBP</th>\n",
              "      <th>Cholesterol</th>\n",
              "      <th>FastingBS</th>\n",
              "      <th>RestingECG</th>\n",
              "      <th>MaxHR</th>\n",
              "      <th>ExerciseAngina</th>\n",
              "      <th>Oldpeak</th>\n",
              "      <th>ST_Slope</th>\n",
              "      <th>HeartDisease</th>\n",
              "    </tr>\n",
              "  </thead>\n",
              "  <tbody>\n",
              "    <tr>\n",
              "      <th>0</th>\n",
              "      <td>40</td>\n",
              "      <td>M</td>\n",
              "      <td>ATA</td>\n",
              "      <td>140</td>\n",
              "      <td>289</td>\n",
              "      <td>0</td>\n",
              "      <td>Normal</td>\n",
              "      <td>172</td>\n",
              "      <td>N</td>\n",
              "      <td>0.0</td>\n",
              "      <td>Up</td>\n",
              "      <td>0</td>\n",
              "    </tr>\n",
              "    <tr>\n",
              "      <th>1</th>\n",
              "      <td>49</td>\n",
              "      <td>F</td>\n",
              "      <td>NAP</td>\n",
              "      <td>160</td>\n",
              "      <td>180</td>\n",
              "      <td>0</td>\n",
              "      <td>Normal</td>\n",
              "      <td>156</td>\n",
              "      <td>N</td>\n",
              "      <td>1.0</td>\n",
              "      <td>Flat</td>\n",
              "      <td>1</td>\n",
              "    </tr>\n",
              "    <tr>\n",
              "      <th>2</th>\n",
              "      <td>37</td>\n",
              "      <td>M</td>\n",
              "      <td>ATA</td>\n",
              "      <td>130</td>\n",
              "      <td>283</td>\n",
              "      <td>0</td>\n",
              "      <td>ST</td>\n",
              "      <td>98</td>\n",
              "      <td>N</td>\n",
              "      <td>0.0</td>\n",
              "      <td>Up</td>\n",
              "      <td>0</td>\n",
              "    </tr>\n",
              "    <tr>\n",
              "      <th>3</th>\n",
              "      <td>48</td>\n",
              "      <td>F</td>\n",
              "      <td>ASY</td>\n",
              "      <td>138</td>\n",
              "      <td>214</td>\n",
              "      <td>0</td>\n",
              "      <td>Normal</td>\n",
              "      <td>108</td>\n",
              "      <td>Y</td>\n",
              "      <td>1.5</td>\n",
              "      <td>Flat</td>\n",
              "      <td>1</td>\n",
              "    </tr>\n",
              "    <tr>\n",
              "      <th>4</th>\n",
              "      <td>54</td>\n",
              "      <td>M</td>\n",
              "      <td>NAP</td>\n",
              "      <td>150</td>\n",
              "      <td>195</td>\n",
              "      <td>0</td>\n",
              "      <td>Normal</td>\n",
              "      <td>122</td>\n",
              "      <td>N</td>\n",
              "      <td>0.0</td>\n",
              "      <td>Up</td>\n",
              "      <td>0</td>\n",
              "    </tr>\n",
              "    <tr>\n",
              "      <th>...</th>\n",
              "      <td>...</td>\n",
              "      <td>...</td>\n",
              "      <td>...</td>\n",
              "      <td>...</td>\n",
              "      <td>...</td>\n",
              "      <td>...</td>\n",
              "      <td>...</td>\n",
              "      <td>...</td>\n",
              "      <td>...</td>\n",
              "      <td>...</td>\n",
              "      <td>...</td>\n",
              "      <td>...</td>\n",
              "    </tr>\n",
              "    <tr>\n",
              "      <th>913</th>\n",
              "      <td>45</td>\n",
              "      <td>M</td>\n",
              "      <td>TA</td>\n",
              "      <td>110</td>\n",
              "      <td>264</td>\n",
              "      <td>0</td>\n",
              "      <td>Normal</td>\n",
              "      <td>132</td>\n",
              "      <td>N</td>\n",
              "      <td>1.2</td>\n",
              "      <td>Flat</td>\n",
              "      <td>1</td>\n",
              "    </tr>\n",
              "    <tr>\n",
              "      <th>914</th>\n",
              "      <td>68</td>\n",
              "      <td>M</td>\n",
              "      <td>ASY</td>\n",
              "      <td>144</td>\n",
              "      <td>193</td>\n",
              "      <td>1</td>\n",
              "      <td>Normal</td>\n",
              "      <td>141</td>\n",
              "      <td>N</td>\n",
              "      <td>3.4</td>\n",
              "      <td>Flat</td>\n",
              "      <td>1</td>\n",
              "    </tr>\n",
              "    <tr>\n",
              "      <th>915</th>\n",
              "      <td>57</td>\n",
              "      <td>M</td>\n",
              "      <td>ASY</td>\n",
              "      <td>130</td>\n",
              "      <td>131</td>\n",
              "      <td>0</td>\n",
              "      <td>Normal</td>\n",
              "      <td>115</td>\n",
              "      <td>Y</td>\n",
              "      <td>1.2</td>\n",
              "      <td>Flat</td>\n",
              "      <td>1</td>\n",
              "    </tr>\n",
              "    <tr>\n",
              "      <th>916</th>\n",
              "      <td>57</td>\n",
              "      <td>F</td>\n",
              "      <td>ATA</td>\n",
              "      <td>130</td>\n",
              "      <td>236</td>\n",
              "      <td>0</td>\n",
              "      <td>LVH</td>\n",
              "      <td>174</td>\n",
              "      <td>N</td>\n",
              "      <td>0.0</td>\n",
              "      <td>Flat</td>\n",
              "      <td>1</td>\n",
              "    </tr>\n",
              "    <tr>\n",
              "      <th>917</th>\n",
              "      <td>38</td>\n",
              "      <td>M</td>\n",
              "      <td>NAP</td>\n",
              "      <td>138</td>\n",
              "      <td>175</td>\n",
              "      <td>0</td>\n",
              "      <td>Normal</td>\n",
              "      <td>173</td>\n",
              "      <td>N</td>\n",
              "      <td>0.0</td>\n",
              "      <td>Up</td>\n",
              "      <td>0</td>\n",
              "    </tr>\n",
              "  </tbody>\n",
              "</table>\n",
              "<p>918 rows × 12 columns</p>\n",
              "</div>\n",
              "      <button class=\"colab-df-convert\" onclick=\"convertToInteractive('df-7302f835-9ed0-48a2-bc3a-0b45028a592f')\"\n",
              "              title=\"Convert this dataframe to an interactive table.\"\n",
              "              style=\"display:none;\">\n",
              "        \n",
              "  <svg xmlns=\"http://www.w3.org/2000/svg\" height=\"24px\"viewBox=\"0 0 24 24\"\n",
              "       width=\"24px\">\n",
              "    <path d=\"M0 0h24v24H0V0z\" fill=\"none\"/>\n",
              "    <path d=\"M18.56 5.44l.94 2.06.94-2.06 2.06-.94-2.06-.94-.94-2.06-.94 2.06-2.06.94zm-11 1L8.5 8.5l.94-2.06 2.06-.94-2.06-.94L8.5 2.5l-.94 2.06-2.06.94zm10 10l.94 2.06.94-2.06 2.06-.94-2.06-.94-.94-2.06-.94 2.06-2.06.94z\"/><path d=\"M17.41 7.96l-1.37-1.37c-.4-.4-.92-.59-1.43-.59-.52 0-1.04.2-1.43.59L10.3 9.45l-7.72 7.72c-.78.78-.78 2.05 0 2.83L4 21.41c.39.39.9.59 1.41.59.51 0 1.02-.2 1.41-.59l7.78-7.78 2.81-2.81c.8-.78.8-2.07 0-2.86zM5.41 20L4 18.59l7.72-7.72 1.47 1.35L5.41 20z\"/>\n",
              "  </svg>\n",
              "      </button>\n",
              "      \n",
              "  <style>\n",
              "    .colab-df-container {\n",
              "      display:flex;\n",
              "      flex-wrap:wrap;\n",
              "      gap: 12px;\n",
              "    }\n",
              "\n",
              "    .colab-df-convert {\n",
              "      background-color: #E8F0FE;\n",
              "      border: none;\n",
              "      border-radius: 50%;\n",
              "      cursor: pointer;\n",
              "      display: none;\n",
              "      fill: #1967D2;\n",
              "      height: 32px;\n",
              "      padding: 0 0 0 0;\n",
              "      width: 32px;\n",
              "    }\n",
              "\n",
              "    .colab-df-convert:hover {\n",
              "      background-color: #E2EBFA;\n",
              "      box-shadow: 0px 1px 2px rgba(60, 64, 67, 0.3), 0px 1px 3px 1px rgba(60, 64, 67, 0.15);\n",
              "      fill: #174EA6;\n",
              "    }\n",
              "\n",
              "    [theme=dark] .colab-df-convert {\n",
              "      background-color: #3B4455;\n",
              "      fill: #D2E3FC;\n",
              "    }\n",
              "\n",
              "    [theme=dark] .colab-df-convert:hover {\n",
              "      background-color: #434B5C;\n",
              "      box-shadow: 0px 1px 3px 1px rgba(0, 0, 0, 0.15);\n",
              "      filter: drop-shadow(0px 1px 2px rgba(0, 0, 0, 0.3));\n",
              "      fill: #FFFFFF;\n",
              "    }\n",
              "  </style>\n",
              "\n",
              "      <script>\n",
              "        const buttonEl =\n",
              "          document.querySelector('#df-7302f835-9ed0-48a2-bc3a-0b45028a592f button.colab-df-convert');\n",
              "        buttonEl.style.display =\n",
              "          google.colab.kernel.accessAllowed ? 'block' : 'none';\n",
              "\n",
              "        async function convertToInteractive(key) {\n",
              "          const element = document.querySelector('#df-7302f835-9ed0-48a2-bc3a-0b45028a592f');\n",
              "          const dataTable =\n",
              "            await google.colab.kernel.invokeFunction('convertToInteractive',\n",
              "                                                     [key], {});\n",
              "          if (!dataTable) return;\n",
              "\n",
              "          const docLinkHtml = 'Like what you see? Visit the ' +\n",
              "            '<a target=\"_blank\" href=https://colab.research.google.com/notebooks/data_table.ipynb>data table notebook</a>'\n",
              "            + ' to learn more about interactive tables.';\n",
              "          element.innerHTML = '';\n",
              "          dataTable['output_type'] = 'display_data';\n",
              "          await google.colab.output.renderOutput(dataTable, element);\n",
              "          const docLink = document.createElement('div');\n",
              "          docLink.innerHTML = docLinkHtml;\n",
              "          element.appendChild(docLink);\n",
              "        }\n",
              "      </script>\n",
              "    </div>\n",
              "  </div>\n",
              "  "
            ]
          },
          "metadata": {},
          "execution_count": 27
        }
      ]
    },
    {
      "cell_type": "code",
      "source": [
        "# Descripcion general de la DB\n",
        "df.describe()"
      ],
      "metadata": {
        "colab": {
          "base_uri": "https://localhost:8080/",
          "height": 300
        },
        "id": "tOaBak0212Yv",
        "outputId": "94f5d6af-4a56-4615-cd2b-3f3a04b0385d"
      },
      "execution_count": 28,
      "outputs": [
        {
          "output_type": "execute_result",
          "data": {
            "text/plain": [
              "              Age   RestingBP  Cholesterol   FastingBS       MaxHR  \\\n",
              "count  918.000000  918.000000   918.000000  918.000000  918.000000   \n",
              "mean    53.510893  132.396514   198.799564    0.233115  136.809368   \n",
              "std      9.432617   18.514154   109.384145    0.423046   25.460334   \n",
              "min     28.000000    0.000000     0.000000    0.000000   60.000000   \n",
              "25%     47.000000  120.000000   173.250000    0.000000  120.000000   \n",
              "50%     54.000000  130.000000   223.000000    0.000000  138.000000   \n",
              "75%     60.000000  140.000000   267.000000    0.000000  156.000000   \n",
              "max     77.000000  200.000000   603.000000    1.000000  202.000000   \n",
              "\n",
              "          Oldpeak  HeartDisease  \n",
              "count  918.000000    918.000000  \n",
              "mean     0.887364      0.553377  \n",
              "std      1.066570      0.497414  \n",
              "min     -2.600000      0.000000  \n",
              "25%      0.000000      0.000000  \n",
              "50%      0.600000      1.000000  \n",
              "75%      1.500000      1.000000  \n",
              "max      6.200000      1.000000  "
            ],
            "text/html": [
              "\n",
              "  <div id=\"df-6294ba81-805b-4560-8302-6cbe83edeee0\">\n",
              "    <div class=\"colab-df-container\">\n",
              "      <div>\n",
              "<style scoped>\n",
              "    .dataframe tbody tr th:only-of-type {\n",
              "        vertical-align: middle;\n",
              "    }\n",
              "\n",
              "    .dataframe tbody tr th {\n",
              "        vertical-align: top;\n",
              "    }\n",
              "\n",
              "    .dataframe thead th {\n",
              "        text-align: right;\n",
              "    }\n",
              "</style>\n",
              "<table border=\"1\" class=\"dataframe\">\n",
              "  <thead>\n",
              "    <tr style=\"text-align: right;\">\n",
              "      <th></th>\n",
              "      <th>Age</th>\n",
              "      <th>RestingBP</th>\n",
              "      <th>Cholesterol</th>\n",
              "      <th>FastingBS</th>\n",
              "      <th>MaxHR</th>\n",
              "      <th>Oldpeak</th>\n",
              "      <th>HeartDisease</th>\n",
              "    </tr>\n",
              "  </thead>\n",
              "  <tbody>\n",
              "    <tr>\n",
              "      <th>count</th>\n",
              "      <td>918.000000</td>\n",
              "      <td>918.000000</td>\n",
              "      <td>918.000000</td>\n",
              "      <td>918.000000</td>\n",
              "      <td>918.000000</td>\n",
              "      <td>918.000000</td>\n",
              "      <td>918.000000</td>\n",
              "    </tr>\n",
              "    <tr>\n",
              "      <th>mean</th>\n",
              "      <td>53.510893</td>\n",
              "      <td>132.396514</td>\n",
              "      <td>198.799564</td>\n",
              "      <td>0.233115</td>\n",
              "      <td>136.809368</td>\n",
              "      <td>0.887364</td>\n",
              "      <td>0.553377</td>\n",
              "    </tr>\n",
              "    <tr>\n",
              "      <th>std</th>\n",
              "      <td>9.432617</td>\n",
              "      <td>18.514154</td>\n",
              "      <td>109.384145</td>\n",
              "      <td>0.423046</td>\n",
              "      <td>25.460334</td>\n",
              "      <td>1.066570</td>\n",
              "      <td>0.497414</td>\n",
              "    </tr>\n",
              "    <tr>\n",
              "      <th>min</th>\n",
              "      <td>28.000000</td>\n",
              "      <td>0.000000</td>\n",
              "      <td>0.000000</td>\n",
              "      <td>0.000000</td>\n",
              "      <td>60.000000</td>\n",
              "      <td>-2.600000</td>\n",
              "      <td>0.000000</td>\n",
              "    </tr>\n",
              "    <tr>\n",
              "      <th>25%</th>\n",
              "      <td>47.000000</td>\n",
              "      <td>120.000000</td>\n",
              "      <td>173.250000</td>\n",
              "      <td>0.000000</td>\n",
              "      <td>120.000000</td>\n",
              "      <td>0.000000</td>\n",
              "      <td>0.000000</td>\n",
              "    </tr>\n",
              "    <tr>\n",
              "      <th>50%</th>\n",
              "      <td>54.000000</td>\n",
              "      <td>130.000000</td>\n",
              "      <td>223.000000</td>\n",
              "      <td>0.000000</td>\n",
              "      <td>138.000000</td>\n",
              "      <td>0.600000</td>\n",
              "      <td>1.000000</td>\n",
              "    </tr>\n",
              "    <tr>\n",
              "      <th>75%</th>\n",
              "      <td>60.000000</td>\n",
              "      <td>140.000000</td>\n",
              "      <td>267.000000</td>\n",
              "      <td>0.000000</td>\n",
              "      <td>156.000000</td>\n",
              "      <td>1.500000</td>\n",
              "      <td>1.000000</td>\n",
              "    </tr>\n",
              "    <tr>\n",
              "      <th>max</th>\n",
              "      <td>77.000000</td>\n",
              "      <td>200.000000</td>\n",
              "      <td>603.000000</td>\n",
              "      <td>1.000000</td>\n",
              "      <td>202.000000</td>\n",
              "      <td>6.200000</td>\n",
              "      <td>1.000000</td>\n",
              "    </tr>\n",
              "  </tbody>\n",
              "</table>\n",
              "</div>\n",
              "      <button class=\"colab-df-convert\" onclick=\"convertToInteractive('df-6294ba81-805b-4560-8302-6cbe83edeee0')\"\n",
              "              title=\"Convert this dataframe to an interactive table.\"\n",
              "              style=\"display:none;\">\n",
              "        \n",
              "  <svg xmlns=\"http://www.w3.org/2000/svg\" height=\"24px\"viewBox=\"0 0 24 24\"\n",
              "       width=\"24px\">\n",
              "    <path d=\"M0 0h24v24H0V0z\" fill=\"none\"/>\n",
              "    <path d=\"M18.56 5.44l.94 2.06.94-2.06 2.06-.94-2.06-.94-.94-2.06-.94 2.06-2.06.94zm-11 1L8.5 8.5l.94-2.06 2.06-.94-2.06-.94L8.5 2.5l-.94 2.06-2.06.94zm10 10l.94 2.06.94-2.06 2.06-.94-2.06-.94-.94-2.06-.94 2.06-2.06.94z\"/><path d=\"M17.41 7.96l-1.37-1.37c-.4-.4-.92-.59-1.43-.59-.52 0-1.04.2-1.43.59L10.3 9.45l-7.72 7.72c-.78.78-.78 2.05 0 2.83L4 21.41c.39.39.9.59 1.41.59.51 0 1.02-.2 1.41-.59l7.78-7.78 2.81-2.81c.8-.78.8-2.07 0-2.86zM5.41 20L4 18.59l7.72-7.72 1.47 1.35L5.41 20z\"/>\n",
              "  </svg>\n",
              "      </button>\n",
              "      \n",
              "  <style>\n",
              "    .colab-df-container {\n",
              "      display:flex;\n",
              "      flex-wrap:wrap;\n",
              "      gap: 12px;\n",
              "    }\n",
              "\n",
              "    .colab-df-convert {\n",
              "      background-color: #E8F0FE;\n",
              "      border: none;\n",
              "      border-radius: 50%;\n",
              "      cursor: pointer;\n",
              "      display: none;\n",
              "      fill: #1967D2;\n",
              "      height: 32px;\n",
              "      padding: 0 0 0 0;\n",
              "      width: 32px;\n",
              "    }\n",
              "\n",
              "    .colab-df-convert:hover {\n",
              "      background-color: #E2EBFA;\n",
              "      box-shadow: 0px 1px 2px rgba(60, 64, 67, 0.3), 0px 1px 3px 1px rgba(60, 64, 67, 0.15);\n",
              "      fill: #174EA6;\n",
              "    }\n",
              "\n",
              "    [theme=dark] .colab-df-convert {\n",
              "      background-color: #3B4455;\n",
              "      fill: #D2E3FC;\n",
              "    }\n",
              "\n",
              "    [theme=dark] .colab-df-convert:hover {\n",
              "      background-color: #434B5C;\n",
              "      box-shadow: 0px 1px 3px 1px rgba(0, 0, 0, 0.15);\n",
              "      filter: drop-shadow(0px 1px 2px rgba(0, 0, 0, 0.3));\n",
              "      fill: #FFFFFF;\n",
              "    }\n",
              "  </style>\n",
              "\n",
              "      <script>\n",
              "        const buttonEl =\n",
              "          document.querySelector('#df-6294ba81-805b-4560-8302-6cbe83edeee0 button.colab-df-convert');\n",
              "        buttonEl.style.display =\n",
              "          google.colab.kernel.accessAllowed ? 'block' : 'none';\n",
              "\n",
              "        async function convertToInteractive(key) {\n",
              "          const element = document.querySelector('#df-6294ba81-805b-4560-8302-6cbe83edeee0');\n",
              "          const dataTable =\n",
              "            await google.colab.kernel.invokeFunction('convertToInteractive',\n",
              "                                                     [key], {});\n",
              "          if (!dataTable) return;\n",
              "\n",
              "          const docLinkHtml = 'Like what you see? Visit the ' +\n",
              "            '<a target=\"_blank\" href=https://colab.research.google.com/notebooks/data_table.ipynb>data table notebook</a>'\n",
              "            + ' to learn more about interactive tables.';\n",
              "          element.innerHTML = '';\n",
              "          dataTable['output_type'] = 'display_data';\n",
              "          await google.colab.output.renderOutput(dataTable, element);\n",
              "          const docLink = document.createElement('div');\n",
              "          docLink.innerHTML = docLinkHtml;\n",
              "          element.appendChild(docLink);\n",
              "        }\n",
              "      </script>\n",
              "    </div>\n",
              "  </div>\n",
              "  "
            ]
          },
          "metadata": {},
          "execution_count": 28
        }
      ]
    },
    {
      "cell_type": "code",
      "source": [
        "# Proceso para verificar el balance de la DB a partir de los datos de salida.\n",
        "import matplotlib.pyplot as plt\n",
        "\n",
        "print(df.groupby('HeartDisease').size())\n",
        "\n",
        "plt.bar([0.0, 1.0], df.groupby('HeartDisease').size())\n",
        "plt.xticks(range(0, 2))\n",
        "plt.title('Balance de los datos de salida. \\n (HeartDisease)')\n",
        "plt.ylabel('Cantidad de datos')\n",
        "plt.xlabel('Salidas del parametro HeartDisease')\n",
        "plt.show()"
      ],
      "metadata": {
        "colab": {
          "base_uri": "https://localhost:8080/",
          "height": 379
        },
        "id": "MV6wnI6c4tKg",
        "outputId": "4d78634d-cb6f-40dc-d222-7598f74def6f"
      },
      "execution_count": 29,
      "outputs": [
        {
          "output_type": "stream",
          "name": "stdout",
          "text": [
            "HeartDisease\n",
            "0    410\n",
            "1    508\n",
            "dtype: int64\n"
          ]
        },
        {
          "output_type": "display_data",
          "data": {
            "text/plain": [
              "<Figure size 432x288 with 1 Axes>"
            ],
            "image/png": "[encoded data removed]"
          },
          "metadata": {
            "needs_background": "light"
          }
        }
      ]
    },
    {
      "cell_type": "markdown",
      "source": [
        "# Preprocesamiento de los datos"
      ],
      "metadata": {
        "id": "XrjZXRYNoi9O"
      }
    },
    {
      "cell_type": "markdown",
      "source": [
        "## Balanceo de la DB \n",
        "\n",
        "Debido a que la base de datos se encuentra desbalanceada, es necesario reducir la cantidad de datos positivos. Este proceso se realiza tomando los elementos los elementos positivos haciendo una mezcla de estos valores y seleccionando la misma cantidad que valores negativos. Cabe señalar que el proceso se realizar de manera aleatoria con el objetivo de que en cada ejecución se pueda evidenciar la pertinencia del los modelos y no generar una falsa expectativa de solución debido a los datos seleccionados. "
      ],
      "metadata": {
        "id": "nT3qqcZre27G"
      }
    },
    {
      "cell_type": "code",
      "source": [
        "import numpy as np\n",
        "\n",
        "df_copy = df.copy()\n",
        "df_mask = df_copy['HeartDisease'] == 1\n",
        "positions = np.flatnonzero(df_mask)\n",
        "filtered_df_1 = df_copy.iloc[positions]\n",
        "print(\"Cantidad de HeartDisease igual a 1:\",filtered_df_1['HeartDisease'].size)\n",
        "\n",
        "df_mask = df_copy['HeartDisease'] == 0\n",
        "positions = np.flatnonzero(df_mask)\n",
        "filtered_df_0 = df_copy.iloc[positions]\n",
        "print(\"Cantidad de HeartDisease igual a 0:\",filtered_df_0['HeartDisease'].size)"
      ],
      "metadata": {
        "colab": {
          "base_uri": "https://localhost:8080/"
        },
        "id": "9szWrICxPYY8",
        "outputId": "df994176-fae0-4746-c55d-cdf824a525de"
      },
      "execution_count": 30,
      "outputs": [
        {
          "output_type": "stream",
          "name": "stdout",
          "text": [
            "Cantidad de HeartDisease igual a 1: 508\n",
            "Cantidad de HeartDisease igual a 0: 410\n"
          ]
        }
      ]
    },
    {
      "cell_type": "code",
      "source": [
        "df_1 = filtered_df_1.sample(n = 410)\n",
        "print(\"Cantidad de HeartDisease igual a 0:\",df_1['HeartDisease'].size)"
      ],
      "metadata": {
        "colab": {
          "base_uri": "https://localhost:8080/"
        },
        "id": "UZL7V4YZibcs",
        "outputId": "c8774165-5a15-4093-d5bb-8988989edafd"
      },
      "execution_count": 31,
      "outputs": [
        {
          "output_type": "stream",
          "name": "stdout",
          "text": [
            "Cantidad de HeartDisease igual a 0: 410\n"
          ]
        }
      ]
    },
    {
      "cell_type": "code",
      "source": [
        "df_Total = pd.concat([df_1, filtered_df_0])\n",
        "df_Total"
      ],
      "metadata": {
        "colab": {
          "base_uri": "https://localhost:8080/",
          "height": 424
        },
        "id": "KqxGvUWCq8Qi",
        "outputId": "d63a956c-0d3f-4d08-afa6-bda601b75195"
      },
      "execution_count": 32,
      "outputs": [
        {
          "output_type": "execute_result",
          "data": {
            "text/plain": [
              "     Age Sex ChestPainType  RestingBP  Cholesterol  FastingBS RestingECG  \\\n",
              "16    38   M           ASY        110          196          0     Normal   \n",
              "609   46   M           ASY        134          310          0     Normal   \n",
              "531   64   M           ASY        143          306          1         ST   \n",
              "408   59   M           ASY        110            0          1     Normal   \n",
              "569   55   M           ASY        158          217          0     Normal   \n",
              "..   ...  ..           ...        ...          ...        ...        ...   \n",
              "903   56   M           ATA        130          221          0        LVH   \n",
              "904   56   M           ATA        120          240          0     Normal   \n",
              "906   55   F           ATA        132          342          0     Normal   \n",
              "910   41   M           ATA        120          157          0     Normal   \n",
              "917   38   M           NAP        138          175          0     Normal   \n",
              "\n",
              "     MaxHR ExerciseAngina  Oldpeak ST_Slope  HeartDisease  \n",
              "16     166              N      0.0     Flat             1  \n",
              "609    126              N      0.0     Flat             1  \n",
              "531    115              Y      1.8     Flat             1  \n",
              "408     94              N      0.0     Flat             1  \n",
              "569    110              Y      2.5     Flat             1  \n",
              "..     ...            ...      ...      ...           ...  \n",
              "903    163              N      0.0       Up             0  \n",
              "904    169              N      0.0     Down             0  \n",
              "906    166              N      1.2       Up             0  \n",
              "910    182              N      0.0       Up             0  \n",
              "917    173              N      0.0       Up             0  \n",
              "\n",
              "[820 rows x 12 columns]"
            ],
            "text/html": [
              "\n",
              "  <div id=\"df-056417c6-08b3-4261-a96f-b6e5a48a8c38\">\n",
              "    <div class=\"colab-df-container\">\n",
              "      <div>\n",
              "<style scoped>\n",
              "    .dataframe tbody tr th:only-of-type {\n",
              "        vertical-align: middle;\n",
              "    }\n",
              "\n",
              "    .dataframe tbody tr th {\n",
              "        vertical-align: top;\n",
              "    }\n",
              "\n",
              "    .dataframe thead th {\n",
              "        text-align: right;\n",
              "    }\n",
              "</style>\n",
              "<table border=\"1\" class=\"dataframe\">\n",
              "  <thead>\n",
              "    <tr style=\"text-align: right;\">\n",
              "      <th></th>\n",
              "      <th>Age</th>\n",
              "      <th>Sex</th>\n",
              "      <th>ChestPainType</th>\n",
              "      <th>RestingBP</th>\n",
              "      <th>Cholesterol</th>\n",
              "      <th>FastingBS</th>\n",
              "      <th>RestingECG</th>\n",
              "      <th>MaxHR</th>\n",
              "      <th>ExerciseAngina</th>\n",
              "      <th>Oldpeak</th>\n",
              "      <th>ST_Slope</th>\n",
              "      <th>HeartDisease</th>\n",
              "    </tr>\n",
              "  </thead>\n",
              "  <tbody>\n",
              "    <tr>\n",
              "      <th>16</th>\n",
              "      <td>38</td>\n",
              "      <td>M</td>\n",
              "      <td>ASY</td>\n",
              "      <td>110</td>\n",
              "      <td>196</td>\n",
              "      <td>0</td>\n",
              "      <td>Normal</td>\n",
              "      <td>166</td>\n",
              "      <td>N</td>\n",
              "      <td>0.0</td>\n",
              "      <td>Flat</td>\n",
              "      <td>1</td>\n",
              "    </tr>\n",
              "    <tr>\n",
              "      <th>609</th>\n",
              "      <td>46</td>\n",
              "      <td>M</td>\n",
              "      <td>ASY</td>\n",
              "      <td>134</td>\n",
              "      <td>310</td>\n",
              "      <td>0</td>\n",
              "      <td>Normal</td>\n",
              "      <td>126</td>\n",
              "      <td>N</td>\n",
              "      <td>0.0</td>\n",
              "      <td>Flat</td>\n",
              "      <td>1</td>\n",
              "    </tr>\n",
              "    <tr>\n",
              "      <th>531</th>\n",
              "      <td>64</td>\n",
              "      <td>M</td>\n",
              "      <td>ASY</td>\n",
              "      <td>143</td>\n",
              "      <td>306</td>\n",
              "      <td>1</td>\n",
              "      <td>ST</td>\n",
              "      <td>115</td>\n",
              "      <td>Y</td>\n",
              "      <td>1.8</td>\n",
              "      <td>Flat</td>\n",
              "      <td>1</td>\n",
              "    </tr>\n",
              "    <tr>\n",
              "      <th>408</th>\n",
              "      <td>59</td>\n",
              "      <td>M</td>\n",
              "      <td>ASY</td>\n",
              "      <td>110</td>\n",
              "      <td>0</td>\n",
              "      <td>1</td>\n",
              "      <td>Normal</td>\n",
              "      <td>94</td>\n",
              "      <td>N</td>\n",
              "      <td>0.0</td>\n",
              "      <td>Flat</td>\n",
              "      <td>1</td>\n",
              "    </tr>\n",
              "    <tr>\n",
              "      <th>569</th>\n",
              "      <td>55</td>\n",
              "      <td>M</td>\n",
              "      <td>ASY</td>\n",
              "      <td>158</td>\n",
              "      <td>217</td>\n",
              "      <td>0</td>\n",
              "      <td>Normal</td>\n",
              "      <td>110</td>\n",
              "      <td>Y</td>\n",
              "      <td>2.5</td>\n",
              "      <td>Flat</td>\n",
              "      <td>1</td>\n",
              "    </tr>\n",
              "    <tr>\n",
              "      <th>...</th>\n",
              "      <td>...</td>\n",
              "      <td>...</td>\n",
              "      <td>...</td>\n",
              "      <td>...</td>\n",
              "      <td>...</td>\n",
              "      <td>...</td>\n",
              "      <td>...</td>\n",
              "      <td>...</td>\n",
              "      <td>...</td>\n",
              "      <td>...</td>\n",
              "      <td>...</td>\n",
              "      <td>...</td>\n",
              "    </tr>\n",
              "    <tr>\n",
              "      <th>903</th>\n",
              "      <td>56</td>\n",
              "      <td>M</td>\n",
              "      <td>ATA</td>\n",
              "      <td>130</td>\n",
              "      <td>221</td>\n",
              "      <td>0</td>\n",
              "      <td>LVH</td>\n",
              "      <td>163</td>\n",
              "      <td>N</td>\n",
              "      <td>0.0</td>\n",
              "      <td>Up</td>\n",
              "      <td>0</td>\n",
              "    </tr>\n",
              "    <tr>\n",
              "      <th>904</th>\n",
              "      <td>56</td>\n",
              "      <td>M</td>\n",
              "      <td>ATA</td>\n",
              "      <td>120</td>\n",
              "      <td>240</td>\n",
              "      <td>0</td>\n",
              "      <td>Normal</td>\n",
              "      <td>169</td>\n",
              "      <td>N</td>\n",
              "      <td>0.0</td>\n",
              "      <td>Down</td>\n",
              "      <td>0</td>\n",
              "    </tr>\n",
              "    <tr>\n",
              "      <th>906</th>\n",
              "      <td>55</td>\n",
              "      <td>F</td>\n",
              "      <td>ATA</td>\n",
              "      <td>132</td>\n",
              "      <td>342</td>\n",
              "      <td>0</td>\n",
              "      <td>Normal</td>\n",
              "      <td>166</td>\n",
              "      <td>N</td>\n",
              "      <td>1.2</td>\n",
              "      <td>Up</td>\n",
              "      <td>0</td>\n",
              "    </tr>\n",
              "    <tr>\n",
              "      <th>910</th>\n",
              "      <td>41</td>\n",
              "      <td>M</td>\n",
              "      <td>ATA</td>\n",
              "      <td>120</td>\n",
              "      <td>157</td>\n",
              "      <td>0</td>\n",
              "      <td>Normal</td>\n",
              "      <td>182</td>\n",
              "      <td>N</td>\n",
              "      <td>0.0</td>\n",
              "      <td>Up</td>\n",
              "      <td>0</td>\n",
              "    </tr>\n",
              "    <tr>\n",
              "      <th>917</th>\n",
              "      <td>38</td>\n",
              "      <td>M</td>\n",
              "      <td>NAP</td>\n",
              "      <td>138</td>\n",
              "      <td>175</td>\n",
              "      <td>0</td>\n",
              "      <td>Normal</td>\n",
              "      <td>173</td>\n",
              "      <td>N</td>\n",
              "      <td>0.0</td>\n",
              "      <td>Up</td>\n",
              "      <td>0</td>\n",
              "    </tr>\n",
              "  </tbody>\n",
              "</table>\n",
              "<p>820 rows × 12 columns</p>\n",
              "</div>\n",
              "      <button class=\"colab-df-convert\" onclick=\"convertToInteractive('df-056417c6-08b3-4261-a96f-b6e5a48a8c38')\"\n",
              "              title=\"Convert this dataframe to an interactive table.\"\n",
              "              style=\"display:none;\">\n",
              "        \n",
              "  <svg xmlns=\"http://www.w3.org/2000/svg\" height=\"24px\"viewBox=\"0 0 24 24\"\n",
              "       width=\"24px\">\n",
              "    <path d=\"M0 0h24v24H0V0z\" fill=\"none\"/>\n",
              "    <path d=\"M18.56 5.44l.94 2.06.94-2.06 2.06-.94-2.06-.94-.94-2.06-.94 2.06-2.06.94zm-11 1L8.5 8.5l.94-2.06 2.06-.94-2.06-.94L8.5 2.5l-.94 2.06-2.06.94zm10 10l.94 2.06.94-2.06 2.06-.94-2.06-.94-.94-2.06-.94 2.06-2.06.94z\"/><path d=\"M17.41 7.96l-1.37-1.37c-.4-.4-.92-.59-1.43-.59-.52 0-1.04.2-1.43.59L10.3 9.45l-7.72 7.72c-.78.78-.78 2.05 0 2.83L4 21.41c.39.39.9.59 1.41.59.51 0 1.02-.2 1.41-.59l7.78-7.78 2.81-2.81c.8-.78.8-2.07 0-2.86zM5.41 20L4 18.59l7.72-7.72 1.47 1.35L5.41 20z\"/>\n",
              "  </svg>\n",
              "      </button>\n",
              "      \n",
              "  <style>\n",
              "    .colab-df-container {\n",
              "      display:flex;\n",
              "      flex-wrap:wrap;\n",
              "      gap: 12px;\n",
              "    }\n",
              "\n",
              "    .colab-df-convert {\n",
              "      background-color: #E8F0FE;\n",
              "      border: none;\n",
              "      border-radius: 50%;\n",
              "      cursor: pointer;\n",
              "      display: none;\n",
              "      fill: #1967D2;\n",
              "      height: 32px;\n",
              "      padding: 0 0 0 0;\n",
              "      width: 32px;\n",
              "    }\n",
              "\n",
              "    .colab-df-convert:hover {\n",
              "      background-color: #E2EBFA;\n",
              "      box-shadow: 0px 1px 2px rgba(60, 64, 67, 0.3), 0px 1px 3px 1px rgba(60, 64, 67, 0.15);\n",
              "      fill: #174EA6;\n",
              "    }\n",
              "\n",
              "    [theme=dark] .colab-df-convert {\n",
              "      background-color: #3B4455;\n",
              "      fill: #D2E3FC;\n",
              "    }\n",
              "\n",
              "    [theme=dark] .colab-df-convert:hover {\n",
              "      background-color: #434B5C;\n",
              "      box-shadow: 0px 1px 3px 1px rgba(0, 0, 0, 0.15);\n",
              "      filter: drop-shadow(0px 1px 2px rgba(0, 0, 0, 0.3));\n",
              "      fill: #FFFFFF;\n",
              "    }\n",
              "  </style>\n",
              "\n",
              "      <script>\n",
              "        const buttonEl =\n",
              "          document.querySelector('#df-056417c6-08b3-4261-a96f-b6e5a48a8c38 button.colab-df-convert');\n",
              "        buttonEl.style.display =\n",
              "          google.colab.kernel.accessAllowed ? 'block' : 'none';\n",
              "\n",
              "        async function convertToInteractive(key) {\n",
              "          const element = document.querySelector('#df-056417c6-08b3-4261-a96f-b6e5a48a8c38');\n",
              "          const dataTable =\n",
              "            await google.colab.kernel.invokeFunction('convertToInteractive',\n",
              "                                                     [key], {});\n",
              "          if (!dataTable) return;\n",
              "\n",
              "          const docLinkHtml = 'Like what you see? Visit the ' +\n",
              "            '<a target=\"_blank\" href=https://colab.research.google.com/notebooks/data_table.ipynb>data table notebook</a>'\n",
              "            + ' to learn more about interactive tables.';\n",
              "          element.innerHTML = '';\n",
              "          dataTable['output_type'] = 'display_data';\n",
              "          await google.colab.output.renderOutput(dataTable, element);\n",
              "          const docLink = document.createElement('div');\n",
              "          docLink.innerHTML = docLinkHtml;\n",
              "          element.appendChild(docLink);\n",
              "        }\n",
              "      </script>\n",
              "    </div>\n",
              "  </div>\n",
              "  "
            ]
          },
          "metadata": {},
          "execution_count": 32
        }
      ]
    },
    {
      "cell_type": "code",
      "source": [
        "import matplotlib.pyplot as plt\n",
        "\n",
        "print(df_Total.groupby('HeartDisease').size())\n",
        "\n",
        "plt.bar([0.0, 1.0], df_Total.groupby('HeartDisease').size())\n",
        "plt.xticks(range(0, 2))\n",
        "plt.title('Balance de los datos de salida. \\n (HeartDisease)')\n",
        "plt.ylabel('Cantidad de datos')\n",
        "plt.xlabel('Salidas del parametro HeartDisease')\n",
        "plt.show()"
      ],
      "metadata": {
        "colab": {
          "base_uri": "https://localhost:8080/",
          "height": 379
        },
        "id": "UOzX1EXKrvUe",
        "outputId": "65b4b5dd-a8de-4d93-b542-d3c1013eec53"
      },
      "execution_count": 33,
      "outputs": [
        {
          "output_type": "stream",
          "name": "stdout",
          "text": [
            "HeartDisease\n",
            "0    410\n",
            "1    410\n",
            "dtype: int64\n"
          ]
        },
        {
          "output_type": "display_data",
          "data": {
            "text/plain": [
              "<Figure size 432x288 with 1 Axes>"
            ],
            "image/png": "[encoded data removed]"
          },
          "metadata": {
            "needs_background": "light"
          }
        }
      ]
    },
    {
      "cell_type": "code",
      "source": [
        "from sklearn.preprocessing import LabelEncoder\n",
        "df2 = df_Total.copy()\n",
        "df2['Sex_'] = LabelEncoder().fit_transform(df2.Sex.values)\n",
        "df2['ExerciseAngina_'] = LabelEncoder().fit_transform(df2.ExerciseAngina.values)\n",
        "df2"
      ],
      "metadata": {
        "colab": {
          "base_uri": "https://localhost:8080/",
          "height": 424
        },
        "id": "EY2I70aY4sjn",
        "outputId": "65093460-881d-4eae-fd82-216cabf9f6fd"
      },
      "execution_count": 34,
      "outputs": [
        {
          "output_type": "execute_result",
          "data": {
            "text/plain": [
              "     Age Sex ChestPainType  RestingBP  Cholesterol  FastingBS RestingECG  \\\n",
              "16    38   M           ASY        110          196          0     Normal   \n",
              "609   46   M           ASY        134          310          0     Normal   \n",
              "531   64   M           ASY        143          306          1         ST   \n",
              "408   59   M           ASY        110            0          1     Normal   \n",
              "569   55   M           ASY        158          217          0     Normal   \n",
              "..   ...  ..           ...        ...          ...        ...        ...   \n",
              "903   56   M           ATA        130          221          0        LVH   \n",
              "904   56   M           ATA        120          240          0     Normal   \n",
              "906   55   F           ATA        132          342          0     Normal   \n",
              "910   41   M           ATA        120          157          0     Normal   \n",
              "917   38   M           NAP        138          175          0     Normal   \n",
              "\n",
              "     MaxHR ExerciseAngina  Oldpeak ST_Slope  HeartDisease  Sex_  \\\n",
              "16     166              N      0.0     Flat             1     1   \n",
              "609    126              N      0.0     Flat             1     1   \n",
              "531    115              Y      1.8     Flat             1     1   \n",
              "408     94              N      0.0     Flat             1     1   \n",
              "569    110              Y      2.5     Flat             1     1   \n",
              "..     ...            ...      ...      ...           ...   ...   \n",
              "903    163              N      0.0       Up             0     1   \n",
              "904    169              N      0.0     Down             0     1   \n",
              "906    166              N      1.2       Up             0     0   \n",
              "910    182              N      0.0       Up             0     1   \n",
              "917    173              N      0.0       Up             0     1   \n",
              "\n",
              "     ExerciseAngina_  \n",
              "16                 0  \n",
              "609                0  \n",
              "531                1  \n",
              "408                0  \n",
              "569                1  \n",
              "..               ...  \n",
              "903                0  \n",
              "904                0  \n",
              "906                0  \n",
              "910                0  \n",
              "917                0  \n",
              "\n",
              "[820 rows x 14 columns]"
            ],
            "text/html": [
              "\n",
              "  <div id=\"df-761e6b6c-0202-4f38-893e-280206a44a8e\">\n",
              "    <div class=\"colab-df-container\">\n",
              "      <div>\n",
              "<style scoped>\n",
              "    .dataframe tbody tr th:only-of-type {\n",
              "        vertical-align: middle;\n",
              "    }\n",
              "\n",
              "    .dataframe tbody tr th {\n",
              "        vertical-align: top;\n",
              "    }\n",
              "\n",
              "    .dataframe thead th {\n",
              "        text-align: right;\n",
              "    }\n",
              "</style>\n",
              "<table border=\"1\" class=\"dataframe\">\n",
              "  <thead>\n",
              "    <tr style=\"text-align: right;\">\n",
              "      <th></th>\n",
              "      <th>Age</th>\n",
              "      <th>Sex</th>\n",
              "      <th>ChestPainType</th>\n",
              "      <th>RestingBP</th>\n",
              "      <th>Cholesterol</th>\n",
              "      <th>FastingBS</th>\n",
              "      <th>RestingECG</th>\n",
              "      <th>MaxHR</th>\n",
              "      <th>ExerciseAngina</th>\n",
              "      <th>Oldpeak</th>\n",
              "      <th>ST_Slope</th>\n",
              "      <th>HeartDisease</th>\n",
              "      <th>Sex_</th>\n",
              "      <th>ExerciseAngina_</th>\n",
              "    </tr>\n",
              "  </thead>\n",
              "  <tbody>\n",
              "    <tr>\n",
              "      <th>16</th>\n",
              "      <td>38</td>\n",
              "      <td>M</td>\n",
              "      <td>ASY</td>\n",
              "      <td>110</td>\n",
              "      <td>196</td>\n",
              "      <td>0</td>\n",
              "      <td>Normal</td>\n",
              "      <td>166</td>\n",
              "      <td>N</td>\n",
              "      <td>0.0</td>\n",
              "      <td>Flat</td>\n",
              "      <td>1</td>\n",
              "      <td>1</td>\n",
              "      <td>0</td>\n",
              "    </tr>\n",
              "    <tr>\n",
              "      <th>609</th>\n",
              "      <td>46</td>\n",
              "      <td>M</td>\n",
              "      <td>ASY</td>\n",
              "      <td>134</td>\n",
              "      <td>310</td>\n",
              "      <td>0</td>\n",
              "      <td>Normal</td>\n",
              "      <td>126</td>\n",
              "      <td>N</td>\n",
              "      <td>0.0</td>\n",
              "      <td>Flat</td>\n",
              "      <td>1</td>\n",
              "      <td>1</td>\n",
              "      <td>0</td>\n",
              "    </tr>\n",
              "    <tr>\n",
              "      <th>531</th>\n",
              "      <td>64</td>\n",
              "      <td>M</td>\n",
              "      <td>ASY</td>\n",
              "      <td>143</td>\n",
              "      <td>306</td>\n",
              "      <td>1</td>\n",
              "      <td>ST</td>\n",
              "      <td>115</td>\n",
              "      <td>Y</td>\n",
              "      <td>1.8</td>\n",
              "      <td>Flat</td>\n",
              "      <td>1</td>\n",
              "      <td>1</td>\n",
              "      <td>1</td>\n",
              "    </tr>\n",
              "    <tr>\n",
              "      <th>408</th>\n",
              "      <td>59</td>\n",
              "      <td>M</td>\n",
              "      <td>ASY</td>\n",
              "      <td>110</td>\n",
              "      <td>0</td>\n",
              "      <td>1</td>\n",
              "      <td>Normal</td>\n",
              "      <td>94</td>\n",
              "      <td>N</td>\n",
              "      <td>0.0</td>\n",
              "      <td>Flat</td>\n",
              "      <td>1</td>\n",
              "      <td>1</td>\n",
              "      <td>0</td>\n",
              "    </tr>\n",
              "    <tr>\n",
              "      <th>569</th>\n",
              "      <td>55</td>\n",
              "      <td>M</td>\n",
              "      <td>ASY</td>\n",
              "      <td>158</td>\n",
              "      <td>217</td>\n",
              "      <td>0</td>\n",
              "      <td>Normal</td>\n",
              "      <td>110</td>\n",
              "      <td>Y</td>\n",
              "      <td>2.5</td>\n",
              "      <td>Flat</td>\n",
              "      <td>1</td>\n",
              "      <td>1</td>\n",
              "      <td>1</td>\n",
              "    </tr>\n",
              "    <tr>\n",
              "      <th>...</th>\n",
              "      <td>...</td>\n",
              "      <td>...</td>\n",
              "      <td>...</td>\n",
              "      <td>...</td>\n",
              "      <td>...</td>\n",
              "      <td>...</td>\n",
              "      <td>...</td>\n",
              "      <td>...</td>\n",
              "      <td>...</td>\n",
              "      <td>...</td>\n",
              "      <td>...</td>\n",
              "      <td>...</td>\n",
              "      <td>...</td>\n",
              "      <td>...</td>\n",
              "    </tr>\n",
              "    <tr>\n",
              "      <th>903</th>\n",
              "      <td>56</td>\n",
              "      <td>M</td>\n",
              "      <td>ATA</td>\n",
              "      <td>130</td>\n",
              "      <td>221</td>\n",
              "      <td>0</td>\n",
              "      <td>LVH</td>\n",
              "      <td>163</td>\n",
              "      <td>N</td>\n",
              "      <td>0.0</td>\n",
              "      <td>Up</td>\n",
              "      <td>0</td>\n",
              "      <td>1</td>\n",
              "      <td>0</td>\n",
              "    </tr>\n",
              "    <tr>\n",
              "      <th>904</th>\n",
              "      <td>56</td>\n",
              "      <td>M</td>\n",
              "      <td>ATA</td>\n",
              "      <td>120</td>\n",
              "      <td>240</td>\n",
              "      <td>0</td>\n",
              "      <td>Normal</td>\n",
              "      <td>169</td>\n",
              "      <td>N</td>\n",
              "      <td>0.0</td>\n",
              "      <td>Down</td>\n",
              "      <td>0</td>\n",
              "      <td>1</td>\n",
              "      <td>0</td>\n",
              "    </tr>\n",
              "    <tr>\n",
              "      <th>906</th>\n",
              "      <td>55</td>\n",
              "      <td>F</td>\n",
              "      <td>ATA</td>\n",
              "      <td>132</td>\n",
              "      <td>342</td>\n",
              "      <td>0</td>\n",
              "      <td>Normal</td>\n",
              "      <td>166</td>\n",
              "      <td>N</td>\n",
              "      <td>1.2</td>\n",
              "      <td>Up</td>\n",
              "      <td>0</td>\n",
              "      <td>0</td>\n",
              "      <td>0</td>\n",
              "    </tr>\n",
              "    <tr>\n",
              "      <th>910</th>\n",
              "      <td>41</td>\n",
              "      <td>M</td>\n",
              "      <td>ATA</td>\n",
              "      <td>120</td>\n",
              "      <td>157</td>\n",
              "      <td>0</td>\n",
              "      <td>Normal</td>\n",
              "      <td>182</td>\n",
              "      <td>N</td>\n",
              "      <td>0.0</td>\n",
              "      <td>Up</td>\n",
              "      <td>0</td>\n",
              "      <td>1</td>\n",
              "      <td>0</td>\n",
              "    </tr>\n",
              "    <tr>\n",
              "      <th>917</th>\n",
              "      <td>38</td>\n",
              "      <td>M</td>\n",
              "      <td>NAP</td>\n",
              "      <td>138</td>\n",
              "      <td>175</td>\n",
              "      <td>0</td>\n",
              "      <td>Normal</td>\n",
              "      <td>173</td>\n",
              "      <td>N</td>\n",
              "      <td>0.0</td>\n",
              "      <td>Up</td>\n",
              "      <td>0</td>\n",
              "      <td>1</td>\n",
              "      <td>0</td>\n",
              "    </tr>\n",
              "  </tbody>\n",
              "</table>\n",
              "<p>820 rows × 14 columns</p>\n",
              "</div>\n",
              "      <button class=\"colab-df-convert\" onclick=\"convertToInteractive('df-761e6b6c-0202-4f38-893e-280206a44a8e')\"\n",
              "              title=\"Convert this dataframe to an interactive table.\"\n",
              "              style=\"display:none;\">\n",
              "        \n",
              "  <svg xmlns=\"http://www.w3.org/2000/svg\" height=\"24px\"viewBox=\"0 0 24 24\"\n",
              "       width=\"24px\">\n",
              "    <path d=\"M0 0h24v24H0V0z\" fill=\"none\"/>\n",
              "    <path d=\"M18.56 5.44l.94 2.06.94-2.06 2.06-.94-2.06-.94-.94-2.06-.94 2.06-2.06.94zm-11 1L8.5 8.5l.94-2.06 2.06-.94-2.06-.94L8.5 2.5l-.94 2.06-2.06.94zm10 10l.94 2.06.94-2.06 2.06-.94-2.06-.94-.94-2.06-.94 2.06-2.06.94z\"/><path d=\"M17.41 7.96l-1.37-1.37c-.4-.4-.92-.59-1.43-.59-.52 0-1.04.2-1.43.59L10.3 9.45l-7.72 7.72c-.78.78-.78 2.05 0 2.83L4 21.41c.39.39.9.59 1.41.59.51 0 1.02-.2 1.41-.59l7.78-7.78 2.81-2.81c.8-.78.8-2.07 0-2.86zM5.41 20L4 18.59l7.72-7.72 1.47 1.35L5.41 20z\"/>\n",
              "  </svg>\n",
              "      </button>\n",
              "      \n",
              "  <style>\n",
              "    .colab-df-container {\n",
              "      display:flex;\n",
              "      flex-wrap:wrap;\n",
              "      gap: 12px;\n",
              "    }\n",
              "\n",
              "    .colab-df-convert {\n",
              "      background-color: #E8F0FE;\n",
              "      border: none;\n",
              "      border-radius: 50%;\n",
              "      cursor: pointer;\n",
              "      display: none;\n",
              "      fill: #1967D2;\n",
              "      height: 32px;\n",
              "      padding: 0 0 0 0;\n",
              "      width: 32px;\n",
              "    }\n",
              "\n",
              "    .colab-df-convert:hover {\n",
              "      background-color: #E2EBFA;\n",
              "      box-shadow: 0px 1px 2px rgba(60, 64, 67, 0.3), 0px 1px 3px 1px rgba(60, 64, 67, 0.15);\n",
              "      fill: #174EA6;\n",
              "    }\n",
              "\n",
              "    [theme=dark] .colab-df-convert {\n",
              "      background-color: #3B4455;\n",
              "      fill: #D2E3FC;\n",
              "    }\n",
              "\n",
              "    [theme=dark] .colab-df-convert:hover {\n",
              "      background-color: #434B5C;\n",
              "      box-shadow: 0px 1px 3px 1px rgba(0, 0, 0, 0.15);\n",
              "      filter: drop-shadow(0px 1px 2px rgba(0, 0, 0, 0.3));\n",
              "      fill: #FFFFFF;\n",
              "    }\n",
              "  </style>\n",
              "\n",
              "      <script>\n",
              "        const buttonEl =\n",
              "          document.querySelector('#df-761e6b6c-0202-4f38-893e-280206a44a8e button.colab-df-convert');\n",
              "        buttonEl.style.display =\n",
              "          google.colab.kernel.accessAllowed ? 'block' : 'none';\n",
              "\n",
              "        async function convertToInteractive(key) {\n",
              "          const element = document.querySelector('#df-761e6b6c-0202-4f38-893e-280206a44a8e');\n",
              "          const dataTable =\n",
              "            await google.colab.kernel.invokeFunction('convertToInteractive',\n",
              "                                                     [key], {});\n",
              "          if (!dataTable) return;\n",
              "\n",
              "          const docLinkHtml = 'Like what you see? Visit the ' +\n",
              "            '<a target=\"_blank\" href=https://colab.research.google.com/notebooks/data_table.ipynb>data table notebook</a>'\n",
              "            + ' to learn more about interactive tables.';\n",
              "          element.innerHTML = '';\n",
              "          dataTable['output_type'] = 'display_data';\n",
              "          await google.colab.output.renderOutput(dataTable, element);\n",
              "          const docLink = document.createElement('div');\n",
              "          docLink.innerHTML = docLinkHtml;\n",
              "          element.appendChild(docLink);\n",
              "        }\n",
              "      </script>\n",
              "    </div>\n",
              "  </div>\n",
              "  "
            ]
          },
          "metadata": {},
          "execution_count": 34
        }
      ]
    },
    {
      "cell_type": "markdown",
      "source": [
        "## Separación de los datos (Train / Test)"
      ],
      "metadata": {
        "id": "eSo9Lb6pD5g4"
      }
    },
    {
      "cell_type": "markdown",
      "source": [
        "Antes de llevar a cabo la separación de la base de datos en los corespondientes grupos de entrenamiento y prueba. Se ha seleccionado de manera arbitraria las siguientes categorias o etiquetas de entrada que permiten calisificar-predecir si una persona puede o no sufrir del corazón. \n",
        "\n",
        "- Age\n",
        "- Sex\n",
        "- RestingBP\n",
        "- Cholesterol\n",
        "- FastingBS\n",
        "- MaxHR\n",
        "- ExerciseAngina\n",
        "- Oldpeak"
      ],
      "metadata": {
        "id": "buQrT2r-S54S"
      }
    },
    {
      "cell_type": "code",
      "source": [
        "X = df2[['Age', 'Sex_', 'RestingBP', 'Cholesterol', 'FastingBS', 'MaxHR', 'ExerciseAngina_', 'Oldpeak']]\n",
        "y = df2['HeartDisease']"
      ],
      "metadata": {
        "id": "ISu-6SaLuV9q"
      },
      "execution_count": 35,
      "outputs": []
    },
    {
      "cell_type": "markdown",
      "source": [
        "En el proceso de división de la base de datos se ha empleado la librería sklearn.model_selection, ([sklearn.model_selection.train_test_split](https://scikit-learn.org/stable/modules/generated/sklearn.model_selection.train_test_split.html)), teniendo en cuenta una distribución del 66% de entrenamiento que equivale a 549 datos y 33% de prueba corespondiente a 271 datos."
      ],
      "metadata": {
        "id": "yVBZiEx1T0Sa"
      }
    },
    {
      "cell_type": "code",
      "source": [
        "from sklearn.model_selection import train_test_split\n",
        "X_train, X_test, y_train, y_test = train_test_split( X, y, test_size=0.33, random_state=42)\n",
        "X_train.shape, X_test.shape, y_train.shape, y_test.shape"
      ],
      "metadata": {
        "colab": {
          "base_uri": "https://localhost:8080/"
        },
        "id": "VMnkKTiytTFe",
        "outputId": "f7b648a2-95b1-4a0b-bc3f-ce50bb8fe48d"
      },
      "execution_count": 36,
      "outputs": [
        {
          "output_type": "execute_result",
          "data": {
            "text/plain": [
              "((549, 8), (271, 8), (549,), (271,))"
            ]
          },
          "metadata": {},
          "execution_count": 36
        }
      ]
    },
    {
      "cell_type": "markdown",
      "source": [
        "Por último, se llevo a cabo el proceso de escalar los datos de entrada (entrenamiento y prueba) mediante una desviación estandar. Este proceso es importante ya que al no tener igual peso o escala los datos, es posible generar un modelo que premie alguna etiqueta en comparación con otra, lo cual influye en el resultado de los algoritmos, de tal forma que así será posible darle igual peso a cada categoria seleccionada. Para tal caso se emplea la librería sklearn.preprocessing,([sklearn.preprocessing.StandardScaler](https://scikit-learn.org/stable/modules/generated/sklearn.preprocessing.StandardScaler.html)). "
      ],
      "metadata": {
        "id": "RHcR0nkeVGnX"
      }
    },
    {
      "cell_type": "code",
      "source": [
        "from sklearn.preprocessing import StandardScaler\n",
        "scaler = StandardScaler().fit(X_train)\n",
        "X_train = scaler.transform(X_train)\n",
        "X_test = scaler.transform(X_test)"
      ],
      "metadata": {
        "id": "QGMpEIwTIzXp"
      },
      "execution_count": 37,
      "outputs": []
    },
    {
      "cell_type": "markdown",
      "source": [
        "# Vecino más cercano"
      ],
      "metadata": {
        "id": "_fc2byaA9Ykc"
      }
    },
    {
      "cell_type": "code",
      "source": [
        "from sklearn.neighbors import KNeighborsClassifier\n",
        "from sklearn.metrics import mean_squared_error\n",
        "\n",
        "vmse = []\n",
        "for i in range(1, 250):       # Recorrido por diferentes valores de K\n",
        "  model_ = KNeighborsClassifier(n_neighbors = i)\n",
        "  model_.fit(X_train, y_train)\n",
        "  y_pred = model_.predict(X_test)\n",
        "  vmse.append(mean_squared_error(y_test, y_pred))\n",
        "\n",
        "mK = vmse.index(min(vmse))+1\n",
        "print(\"Mejor valor de K: \" + str(mK))"
      ],
      "metadata": {
        "colab": {
          "base_uri": "https://localhost:8080/"
        },
        "id": "g9nyGccI9cIi",
        "outputId": "3f981e61-da92-40fe-acea-4b418f8eff10"
      },
      "execution_count": 38,
      "outputs": [
        {
          "output_type": "stream",
          "name": "stdout",
          "text": [
            "Mejor valor de K: 19\n"
          ]
        }
      ]
    },
    {
      "cell_type": "code",
      "source": [
        "import matplotlib.pyplot as plt\n",
        "plt.plot(vmse)\n",
        "plt.title('MSE con diferentes valores de K')\n",
        "plt.xlabel('K')\n",
        "plt.ylabel('MSE')\n",
        "plt.grid()\n",
        "plt.show()"
      ],
      "metadata": {
        "colab": {
          "base_uri": "https://localhost:8080/",
          "height": 295
        },
        "id": "d16Bb9PB96Al",
        "outputId": "ba06ed92-6c9d-44e5-baaf-c149f51a5ab0"
      },
      "execution_count": 39,
      "outputs": [
        {
          "output_type": "display_data",
          "data": {
            "text/plain": [
              "<Figure size 432x288 with 1 Axes>"
            ],
            "image/png": "[encoded data removed]"
          },
          "metadata": {
            "needs_background": "light"
          }
        }
      ]
    },
    {
      "cell_type": "code",
      "source": [
        "from sklearn.neighbors import KNeighborsRegressor\n",
        "import numpy as np\n",
        "\n",
        "model_mK = KNeighborsRegressor(n_neighbors=mK)\n",
        "model_mK.fit(X_train, y_train)\n",
        "y_pred_mK = model_mK.predict(X_test)\n",
        "for i in range(y_pred_mK.size):\n",
        "  if(y_pred_mK[i] > 0.5):\n",
        "    y_pred_mK[i] = 1\n",
        "  else:\n",
        "    y_pred_mK[i] = 0\n",
        "\n",
        "Metricas(y_test, y_pred_mK)\n",
        "\n",
        "d = CompaModelos(y_test, y_pred_mK)\n",
        "df_Comp = df_Comp.append({'confusion_matrix':d[0], 'precision_score':d[1], 'accuracy_score':d[2], 'recall_score':d[3], 'mean_squared_error':d[4]}, ignore_index=True)"
      ],
      "metadata": {
        "colab": {
          "base_uri": "https://localhost:8080/"
        },
        "id": "6A0N_bLM-MBZ",
        "outputId": "1f46340d-5611-45ee-a883-e95399b6af44"
      },
      "execution_count": 40,
      "outputs": [
        {
          "output_type": "stream",
          "name": "stdout",
          "text": [
            "Matriz de confusión:\n",
            "[[107  16]\n",
            " [ 31 117]]\n",
            "Precisión del modelo: 0.8796992481203008\n",
            "Exactitud del modelo: 0.8265682656826568\n",
            "Sensibilidad del modelo: 0.7905405405405406\n",
            "Error del modelo: 0.17343173431734318\n"
          ]
        }
      ]
    },
    {
      "cell_type": "markdown",
      "source": [
        "# Clasificador Bayesiano Ingenuo"
      ],
      "metadata": {
        "id": "3u0nfOlLurMw"
      }
    },
    {
      "cell_type": "code",
      "source": [
        "from sklearn.naive_bayes import GaussianNB\n",
        "algGauss = GaussianNB()\n",
        "algGauss.fit(X_train, y_train)\n",
        "\n",
        "y_pred = algGauss.predict(X_test)\n",
        "Metricas(y_test, y_pred)\n",
        "\n",
        "d = CompaModelos(y_test, y_pred)\n",
        "df_Comp = df_Comp.append({'confusion_matrix':d[0], 'precision_score':d[1], 'accuracy_score':d[2], 'recall_score':d[3], 'mean_squared_error':d[4]}, ignore_index=True)"
      ],
      "metadata": {
        "colab": {
          "base_uri": "https://localhost:8080/"
        },
        "id": "COz7-UB5GmmV",
        "outputId": "1cb7e521-5961-4a9f-be98-b18ea1e7d50a"
      },
      "execution_count": 41,
      "outputs": [
        {
          "output_type": "stream",
          "name": "stdout",
          "text": [
            "Matriz de confusión:\n",
            "[[ 92  31]\n",
            " [ 24 124]]\n",
            "Precisión del modelo: 0.8\n",
            "Exactitud del modelo: 0.7970479704797048\n",
            "Sensibilidad del modelo: 0.8378378378378378\n",
            "Error del modelo: 0.2029520295202952\n"
          ]
        }
      ]
    },
    {
      "cell_type": "markdown",
      "source": [
        "# Regresión Logistica"
      ],
      "metadata": {
        "id": "OQjY_w12um7m"
      }
    },
    {
      "cell_type": "code",
      "source": [
        "from sklearn.linear_model import LogisticRegression\n",
        "algRegLog = LogisticRegression()\n",
        "algRegLog.fit(X_train, y_train)\n",
        "\n",
        "y_pred = algRegLog.predict(X_test)\n",
        "Metricas(y_test, y_pred)\n",
        "\n",
        "d = CompaModelos(y_test, y_pred)\n",
        "df_Comp = df_Comp.append({'confusion_matrix':d[0], 'precision_score':d[1], 'accuracy_score':d[2], 'recall_score':d[3], 'mean_squared_error':d[4]}, ignore_index=True)"
      ],
      "metadata": {
        "colab": {
          "base_uri": "https://localhost:8080/"
        },
        "id": "m53-Wt_AL5CX",
        "outputId": "dfb3e053-64b2-4d79-ca44-c611a30cc495"
      },
      "execution_count": 42,
      "outputs": [
        {
          "output_type": "stream",
          "name": "stdout",
          "text": [
            "Matriz de confusión:\n",
            "[[ 99  24]\n",
            " [ 27 121]]\n",
            "Precisión del modelo: 0.8344827586206897\n",
            "Exactitud del modelo: 0.8118081180811808\n",
            "Sensibilidad del modelo: 0.8175675675675675\n",
            "Error del modelo: 0.1881918819188192\n"
          ]
        }
      ]
    },
    {
      "cell_type": "markdown",
      "source": [
        "# Red Neuronal"
      ],
      "metadata": {
        "id": "l82wHLE2KFZ2"
      }
    },
    {
      "cell_type": "markdown",
      "source": [
        "## Empleando Scikit-Learn\n",
        "Configuraciones realizadas:\n",
        "- Cantidad de Capas (3)\n",
        "  - Capa 1 (Función de activación: relu, No Neuronas: 10)\n",
        "  - Capa 2 (Función de activación: relu, No Neuronas: 10)\n",
        "  - Capa 3 (Función de activación: relu, No Neuronas: 10)\n",
        "  - Epocas: 500\n",
        "  - Algormitmo de optimización: Adam\n",
        "  - Tolerancia: 0.0000000001"
      ],
      "metadata": {
        "id": "DEHXX8p0uNvS"
      }
    },
    {
      "cell_type": "code",
      "source": [
        "from sklearn.neural_network import MLPClassifier\n",
        "mlp = MLPClassifier(hidden_layer_sizes=(10, 10, 10), max_iter=500, alpha=0.0001, \n",
        "                    activation='relu', solver='adam', random_state=21, tol= 0.0000000001)\n",
        "mlp.fit(X_train, y_train)\n",
        "\n",
        "y_pred = mlp.predict(X_test)\n",
        "Metricas(y_test, y_pred)\n",
        "\n",
        "d = CompaModelos(y_test, y_pred)\n",
        "df_Comp = df_Comp.append({'confusion_matrix':d[0], 'precision_score':d[1], 'accuracy_score':d[2], 'recall_score':d[3], 'mean_squared_error':d[4]}, ignore_index=True)"
      ],
      "metadata": {
        "colab": {
          "base_uri": "https://localhost:8080/"
        },
        "id": "VlP5qS59KG1M",
        "outputId": "e705df88-3412-41c5-d3c2-88ada506276c"
      },
      "execution_count": 43,
      "outputs": [
        {
          "output_type": "stream",
          "name": "stdout",
          "text": [
            "Matriz de confusión:\n",
            "[[100  23]\n",
            " [ 33 115]]\n",
            "Precisión del modelo: 0.8333333333333334\n",
            "Exactitud del modelo: 0.7933579335793358\n",
            "Sensibilidad del modelo: 0.777027027027027\n",
            "Error del modelo: 0.2066420664206642\n"
          ]
        },
        {
          "output_type": "stream",
          "name": "stderr",
          "text": [
            "/usr/local/lib/python3.7/dist-packages/sklearn/neural_network/_multilayer_perceptron.py:696: ConvergenceWarning: Stochastic Optimizer: Maximum iterations (500) reached and the optimization hasn't converged yet.\n",
            "  ConvergenceWarning,\n"
          ]
        }
      ]
    },
    {
      "cell_type": "markdown",
      "source": [
        "## Empleando TensorFlow\n",
        "Configuraciones realizadas:\n",
        "- Cantidad de Capas (3)\n",
        "  - Capa 1 (Función de activación: relu, No Neuronas: 1)\n",
        "  - Capa 2 (Función de activación: relu, No Neuronas: 2)\n",
        "  - Capa 3 (Función de activación: sigmoid, No Neuronas: 3)\n",
        "  - Epocas: 1000\n",
        "  - Algormitmo de optimización: Adam\n",
        "  - Métrica: accuracy (Exactitud)"
      ],
      "metadata": {
        "id": "da-McbY-Rc8C"
      }
    },
    {
      "cell_type": "code",
      "source": [
        "import tensorflow as tf\n",
        "from tensorflow import keras"
      ],
      "metadata": {
        "id": "HAD8N-WARdxv"
      },
      "execution_count": 44,
      "outputs": []
    },
    {
      "cell_type": "code",
      "source": [
        "from sklearn import metrics\n",
        "lr = 0.01\n",
        "nn = [2, 10, 5, 1]\n",
        "\n",
        "model = keras.Sequential()\n",
        "model.add(keras.layers.Dense(nn[1], activation='relu')) # Capa 1\n",
        "model.add(keras.layers.Dense(nn[2], activation='relu')) # Capa 2\n",
        "model.add(keras.layers.Dense(nn[3], activation='sigmoid')) # Capa 3\n",
        "model.compile(loss='mse', optimizer=keras.optimizers.Adam(lr), metrics=['acc'])\n",
        "\n",
        "model_ = model.fit(X_train, y_train, epochs=1000, verbose=False)\n",
        "print('Modelo entrenado')"
      ],
      "metadata": {
        "id": "wpOWk_7D0_MU",
        "colab": {
          "base_uri": "https://localhost:8080/"
        },
        "outputId": "6966ce03-ae82-4f2d-fa25-de2b6da37813"
      },
      "execution_count": 45,
      "outputs": [
        {
          "output_type": "stream",
          "name": "stdout",
          "text": [
            "Modelo entrenado\n"
          ]
        }
      ]
    },
    {
      "cell_type": "code",
      "source": [
        "import matplotlib.pyplot as plt\n",
        "plt.title('Magnitud de pérdida vs # Epoca')\n",
        "plt.xlabel('# Epoca')\n",
        "plt.ylabel('Magnitud de pérdida')\n",
        "plt.grid()\n",
        "plt.plot(model_.history[\"loss\"])\n",
        "plt.plot(model_.history[\"acc\"])"
      ],
      "metadata": {
        "colab": {
          "base_uri": "https://localhost:8080/",
          "height": 312
        },
        "id": "iApPR_q4JrgQ",
        "outputId": "a234a420-8c72-4df2-c4f0-d46182cdfdf2"
      },
      "execution_count": 49,
      "outputs": [
        {
          "output_type": "execute_result",
          "data": {
            "text/plain": [
              "[<matplotlib.lines.Line2D at 0x7f620b9a7090>]"
            ]
          },
          "metadata": {},
          "execution_count": 49
        },
        {
          "output_type": "display_data",
          "data": {
            "text/plain": [
              "<Figure size 432x288 with 1 Axes>"
            ],
            "image/png": "[encoded data removed]"
          },
          "metadata": {
            "needs_background": "light"
          }
        }
      ]
    },
    {
      "cell_type": "code",
      "source": [
        "predictions = model.predict(X_test)\n",
        "\n",
        "predictions = predictions.astype(int)\n",
        "Metricas(y_test, predictions)\n",
        "\n",
        "d = CompaModelos(y_test, predictions)\n",
        "df_Comp = df_Comp.append({'confusion_matrix':d[0], 'precision_score':d[1], 'accuracy_score':d[2], 'recall_score':d[3], 'mean_squared_error':d[4]}, ignore_index=True)"
      ],
      "metadata": {
        "colab": {
          "base_uri": "https://localhost:8080/"
        },
        "id": "OMdhEk3WDJrM",
        "outputId": "1df98dd3-8399-4369-dbed-98368be92804"
      },
      "execution_count": 47,
      "outputs": [
        {
          "output_type": "stream",
          "name": "stdout",
          "text": [
            "9/9 [==============================] - 0s 2ms/step\n",
            "Matriz de confusión:\n",
            "[[108  15]\n",
            " [ 52  96]]\n",
            "Precisión del modelo: 0.8648648648648649\n",
            "Exactitud del modelo: 0.7527675276752768\n",
            "Sensibilidad del modelo: 0.6486486486486487\n",
            "Error del modelo: 0.24723247232472326\n"
          ]
        }
      ]
    },
    {
      "cell_type": "markdown",
      "source": [
        "# Comparación de los modelos\n",
        "Se presenta por medio de una tabla los diferentes resultados que se han presentado a lo largo de los algoritmos empleados."
      ],
      "metadata": {
        "id": "XuMxl0DIxNZ8"
      }
    },
    {
      "cell_type": "code",
      "source": [
        "Alg = [\"Vecino más cercano\", \"Clasificador Bayesiano Ingenuo\", \"Regresión Logistica\", \"RN - ScikitLearn\", \"RN - TensorFlow\"]\n",
        "df_Comp_ = pd.DataFrame({'algorithms': Alg})\n",
        "df_Comp_ = pd.concat([df_Comp_, df_Comp], axis=1,)\n",
        "df_Comp_"
      ],
      "metadata": {
        "colab": {
          "base_uri": "https://localhost:8080/",
          "height": 206
        },
        "id": "UwxHYXg4aF6m",
        "outputId": "49250010-b860-4347-83d6-84b6e3cf0c5e"
      },
      "execution_count": 48,
      "outputs": [
        {
          "output_type": "execute_result",
          "data": {
            "text/plain": [
              "                       algorithms        confusion_matrix  precision_score  \\\n",
              "0              Vecino más cercano  [[107, 16], [31, 117]]         0.879699   \n",
              "1  Clasificador Bayesiano Ingenuo   [[92, 31], [24, 124]]         0.800000   \n",
              "2             Regresión Logistica   [[99, 24], [27, 121]]         0.834483   \n",
              "3                RN - ScikitLearn  [[100, 23], [33, 115]]         0.833333   \n",
              "4                 RN - TensorFlow   [[108, 15], [52, 96]]         0.864865   \n",
              "\n",
              "   accuracy_score  recall_score  mean_squared_error  \n",
              "0        0.826568      0.790541            0.173432  \n",
              "1        0.797048      0.837838            0.202952  \n",
              "2        0.811808      0.817568            0.188192  \n",
              "3        0.793358      0.777027            0.206642  \n",
              "4        0.752768      0.648649            0.247232  "
            ],
            "text/html": [
              "\n",
              "  <div id=\"df-b1bc7758-943d-4a60-abc3-8d467bafba27\">\n",
              "    <div class=\"colab-df-container\">\n",
              "      <div>\n",
              "<style scoped>\n",
              "    .dataframe tbody tr th:only-of-type {\n",
              "        vertical-align: middle;\n",
              "    }\n",
              "\n",
              "    .dataframe tbody tr th {\n",
              "        vertical-align: top;\n",
              "    }\n",
              "\n",
              "    .dataframe thead th {\n",
              "        text-align: right;\n",
              "    }\n",
              "</style>\n",
              "<table border=\"1\" class=\"dataframe\">\n",
              "  <thead>\n",
              "    <tr style=\"text-align: right;\">\n",
              "      <th></th>\n",
              "      <th>algorithms</th>\n",
              "      <th>confusion_matrix</th>\n",
              "      <th>precision_score</th>\n",
              "      <th>accuracy_score</th>\n",
              "      <th>recall_score</th>\n",
              "      <th>mean_squared_error</th>\n",
              "    </tr>\n",
              "  </thead>\n",
              "  <tbody>\n",
              "    <tr>\n",
              "      <th>0</th>\n",
              "      <td>Vecino más cercano</td>\n",
              "      <td>[[107, 16], [31, 117]]</td>\n",
              "      <td>0.879699</td>\n",
              "      <td>0.826568</td>\n",
              "      <td>0.790541</td>\n",
              "      <td>0.173432</td>\n",
              "    </tr>\n",
              "    <tr>\n",
              "      <th>1</th>\n",
              "      <td>Clasificador Bayesiano Ingenuo</td>\n",
              "      <td>[[92, 31], [24, 124]]</td>\n",
              "      <td>0.800000</td>\n",
              "      <td>0.797048</td>\n",
              "      <td>0.837838</td>\n",
              "      <td>0.202952</td>\n",
              "    </tr>\n",
              "    <tr>\n",
              "      <th>2</th>\n",
              "      <td>Regresión Logistica</td>\n",
              "      <td>[[99, 24], [27, 121]]</td>\n",
              "      <td>0.834483</td>\n",
              "      <td>0.811808</td>\n",
              "      <td>0.817568</td>\n",
              "      <td>0.188192</td>\n",
              "    </tr>\n",
              "    <tr>\n",
              "      <th>3</th>\n",
              "      <td>RN - ScikitLearn</td>\n",
              "      <td>[[100, 23], [33, 115]]</td>\n",
              "      <td>0.833333</td>\n",
              "      <td>0.793358</td>\n",
              "      <td>0.777027</td>\n",
              "      <td>0.206642</td>\n",
              "    </tr>\n",
              "    <tr>\n",
              "      <th>4</th>\n",
              "      <td>RN - TensorFlow</td>\n",
              "      <td>[[108, 15], [52, 96]]</td>\n",
              "      <td>0.864865</td>\n",
              "      <td>0.752768</td>\n",
              "      <td>0.648649</td>\n",
              "      <td>0.247232</td>\n",
              "    </tr>\n",
              "  </tbody>\n",
              "</table>\n",
              "</div>\n",
              "      <button class=\"colab-df-convert\" onclick=\"convertToInteractive('df-b1bc7758-943d-4a60-abc3-8d467bafba27')\"\n",
              "              title=\"Convert this dataframe to an interactive table.\"\n",
              "              style=\"display:none;\">\n",
              "        \n",
              "  <svg xmlns=\"http://www.w3.org/2000/svg\" height=\"24px\"viewBox=\"0 0 24 24\"\n",
              "       width=\"24px\">\n",
              "    <path d=\"M0 0h24v24H0V0z\" fill=\"none\"/>\n",
              "    <path d=\"M18.56 5.44l.94 2.06.94-2.06 2.06-.94-2.06-.94-.94-2.06-.94 2.06-2.06.94zm-11 1L8.5 8.5l.94-2.06 2.06-.94-2.06-.94L8.5 2.5l-.94 2.06-2.06.94zm10 10l.94 2.06.94-2.06 2.06-.94-2.06-.94-.94-2.06-.94 2.06-2.06.94z\"/><path d=\"M17.41 7.96l-1.37-1.37c-.4-.4-.92-.59-1.43-.59-.52 0-1.04.2-1.43.59L10.3 9.45l-7.72 7.72c-.78.78-.78 2.05 0 2.83L4 21.41c.39.39.9.59 1.41.59.51 0 1.02-.2 1.41-.59l7.78-7.78 2.81-2.81c.8-.78.8-2.07 0-2.86zM5.41 20L4 18.59l7.72-7.72 1.47 1.35L5.41 20z\"/>\n",
              "  </svg>\n",
              "      </button>\n",
              "      \n",
              "  <style>\n",
              "    .colab-df-container {\n",
              "      display:flex;\n",
              "      flex-wrap:wrap;\n",
              "      gap: 12px;\n",
              "    }\n",
              "\n",
              "    .colab-df-convert {\n",
              "      background-color: #E8F0FE;\n",
              "      border: none;\n",
              "      border-radius: 50%;\n",
              "      cursor: pointer;\n",
              "      display: none;\n",
              "      fill: #1967D2;\n",
              "      height: 32px;\n",
              "      padding: 0 0 0 0;\n",
              "      width: 32px;\n",
              "    }\n",
              "\n",
              "    .colab-df-convert:hover {\n",
              "      background-color: #E2EBFA;\n",
              "      box-shadow: 0px 1px 2px rgba(60, 64, 67, 0.3), 0px 1px 3px 1px rgba(60, 64, 67, 0.15);\n",
              "      fill: #174EA6;\n",
              "    }\n",
              "\n",
              "    [theme=dark] .colab-df-convert {\n",
              "      background-color: #3B4455;\n",
              "      fill: #D2E3FC;\n",
              "    }\n",
              "\n",
              "    [theme=dark] .colab-df-convert:hover {\n",
              "      background-color: #434B5C;\n",
              "      box-shadow: 0px 1px 3px 1px rgba(0, 0, 0, 0.15);\n",
              "      filter: drop-shadow(0px 1px 2px rgba(0, 0, 0, 0.3));\n",
              "      fill: #FFFFFF;\n",
              "    }\n",
              "  </style>\n",
              "\n",
              "      <script>\n",
              "        const buttonEl =\n",
              "          document.querySelector('#df-b1bc7758-943d-4a60-abc3-8d467bafba27 button.colab-df-convert');\n",
              "        buttonEl.style.display =\n",
              "          google.colab.kernel.accessAllowed ? 'block' : 'none';\n",
              "\n",
              "        async function convertToInteractive(key) {\n",
              "          const element = document.querySelector('#df-b1bc7758-943d-4a60-abc3-8d467bafba27');\n",
              "          const dataTable =\n",
              "            await google.colab.kernel.invokeFunction('convertToInteractive',\n",
              "                                                     [key], {});\n",
              "          if (!dataTable) return;\n",
              "\n",
              "          const docLinkHtml = 'Like what you see? Visit the ' +\n",
              "            '<a target=\"_blank\" href=https://colab.research.google.com/notebooks/data_table.ipynb>data table notebook</a>'\n",
              "            + ' to learn more about interactive tables.';\n",
              "          element.innerHTML = '';\n",
              "          dataTable['output_type'] = 'display_data';\n",
              "          await google.colab.output.renderOutput(dataTable, element);\n",
              "          const docLink = document.createElement('div');\n",
              "          docLink.innerHTML = docLinkHtml;\n",
              "          element.appendChild(docLink);\n",
              "        }\n",
              "      </script>\n",
              "    </div>\n",
              "  </div>\n",
              "  "
            ]
          },
          "metadata": {},
          "execution_count": 48
        }
      ]
    },
    {
      "cell_type": "markdown",
      "source": [
        "# Conclusiones\n",
        "\n",
        "De acuerdo con el desarrollo del proyecto,  donde se llevo a cabo la implementación de diferentes algoritmos de la clasificación-predicción se puede establecer:\n",
        "\n",
        "- El preprocesamiento de la base de datos previo a la implementación de cualquier algoritmo computacional se justifica a casua de que los modelos empleados son modelos matemáticas que sufren o pueden verse influidos por la distribución o magnitud de las entredas.\n",
        "- De acuerdo con los resultados de la tabla anterior es posible definir.\n",
        "  - El algoritmo de vecinos más cercanos presenta mayor precisión.\n",
        "  - De igual forma el algoritmo de vecinos más cercanos cuenta con mayor exactitud.\n",
        "  - El algoritmo de la Red Neuronal empleado TensorFlow posee menor sensibilidad.\n",
        "  - El menor error cuadratico medio más pequeño lo tiene el algoritmo de vecinos más cercanos.\n",
        "- Pese a los resultados obtenidos, es necesario mencionar que estos modelos distan de ser una solución adecuada al problema propuesto y que debido a su proceso de aleatoriedad es necesario realizar más experimentos y configuración con tal que se puede reafirmar los resultados presentados. \n",
        "\n",
        "De tal forma, se puede mencionar que con la comparaciones realizadas, el algoritmo que posee un mejor rendimiento es el de los vecinos más cercanos. "
      ],
      "metadata": {
        "id": "DnF6Z7LUfCwW"
      }
    }
  ]
}